{
 "cells": [
  {
   "cell_type": "markdown",
   "id": "cb22a708",
   "metadata": {},
   "source": [
    "## Question 3\n",
    "\n",
    "Housing\n",
    "Step 1. Import the necessary libraries\n",
    "Step 2. Create 3 differents Series, each of length 100, as follows:\n",
    "• The first a random number from 1 to 4\n",
    "• The second a random number from 1 to 3\n",
    "• The third a random number from 10,000 to 30,000\n",
    "Step 3. Create a DataFrame by joinning the Series by column\n",
    "Step 4. Change the name of the columns to bedrs, bathrs, price_sqr_meter\n",
    "Step 5. Create a one column DataFrame with the values of the 3 Series and assign it\n",
    "to 'bigcolumn'\n",
    "Step 6. Ops it seems it is going only until index 99. Is it true?\n",
    "Step 7. Reindex the DataFrame so it goes from 0 to 299"
   ]
  },
  {
   "cell_type": "code",
   "execution_count": 1,
   "id": "5e1ffe0d",
   "metadata": {},
   "outputs": [],
   "source": [
    "import pandas as pd\n",
    "import numpy as np\n",
    "series = pd.Series(np.random.randint(1,5,size=100))\n",
    "series1= pd.Series(np.random.randint(1,4,size=100))\n",
    "series2= pd.Series(np.random.randint(10000,30001,size=100))\n",
    "df=pd.concat([series,series1,series2],axis=1)"
   ]
  },
  {
   "cell_type": "markdown",
   "id": "871cd249",
   "metadata": {},
   "source": [
    "###### Change the name of the columns to bedrs, bathrs, price_sqr_meter"
   ]
  },
  {
   "cell_type": "code",
   "execution_count": 2,
   "id": "f025db1a",
   "metadata": {},
   "outputs": [
    {
     "data": {
      "text/html": [
       "<div>\n",
       "<style scoped>\n",
       "    .dataframe tbody tr th:only-of-type {\n",
       "        vertical-align: middle;\n",
       "    }\n",
       "\n",
       "    .dataframe tbody tr th {\n",
       "        vertical-align: top;\n",
       "    }\n",
       "\n",
       "    .dataframe thead th {\n",
       "        text-align: right;\n",
       "    }\n",
       "</style>\n",
       "<table border=\"1\" class=\"dataframe\">\n",
       "  <thead>\n",
       "    <tr style=\"text-align: right;\">\n",
       "      <th></th>\n",
       "      <th>bedrs</th>\n",
       "      <th>bathrs</th>\n",
       "      <th>price_sqr_meter</th>\n",
       "    </tr>\n",
       "  </thead>\n",
       "  <tbody>\n",
       "    <tr>\n",
       "      <th>0</th>\n",
       "      <td>2</td>\n",
       "      <td>2</td>\n",
       "      <td>14645</td>\n",
       "    </tr>\n",
       "    <tr>\n",
       "      <th>1</th>\n",
       "      <td>4</td>\n",
       "      <td>1</td>\n",
       "      <td>23945</td>\n",
       "    </tr>\n",
       "    <tr>\n",
       "      <th>2</th>\n",
       "      <td>4</td>\n",
       "      <td>1</td>\n",
       "      <td>19034</td>\n",
       "    </tr>\n",
       "    <tr>\n",
       "      <th>3</th>\n",
       "      <td>1</td>\n",
       "      <td>2</td>\n",
       "      <td>19526</td>\n",
       "    </tr>\n",
       "    <tr>\n",
       "      <th>4</th>\n",
       "      <td>3</td>\n",
       "      <td>1</td>\n",
       "      <td>25298</td>\n",
       "    </tr>\n",
       "    <tr>\n",
       "      <th>...</th>\n",
       "      <td>...</td>\n",
       "      <td>...</td>\n",
       "      <td>...</td>\n",
       "    </tr>\n",
       "    <tr>\n",
       "      <th>95</th>\n",
       "      <td>1</td>\n",
       "      <td>1</td>\n",
       "      <td>27835</td>\n",
       "    </tr>\n",
       "    <tr>\n",
       "      <th>96</th>\n",
       "      <td>3</td>\n",
       "      <td>2</td>\n",
       "      <td>29864</td>\n",
       "    </tr>\n",
       "    <tr>\n",
       "      <th>97</th>\n",
       "      <td>1</td>\n",
       "      <td>3</td>\n",
       "      <td>18928</td>\n",
       "    </tr>\n",
       "    <tr>\n",
       "      <th>98</th>\n",
       "      <td>2</td>\n",
       "      <td>3</td>\n",
       "      <td>19160</td>\n",
       "    </tr>\n",
       "    <tr>\n",
       "      <th>99</th>\n",
       "      <td>2</td>\n",
       "      <td>3</td>\n",
       "      <td>15379</td>\n",
       "    </tr>\n",
       "  </tbody>\n",
       "</table>\n",
       "<p>100 rows × 3 columns</p>\n",
       "</div>"
      ],
      "text/plain": [
       "    bedrs  bathrs  price_sqr_meter\n",
       "0       2       2            14645\n",
       "1       4       1            23945\n",
       "2       4       1            19034\n",
       "3       1       2            19526\n",
       "4       3       1            25298\n",
       "..    ...     ...              ...\n",
       "95      1       1            27835\n",
       "96      3       2            29864\n",
       "97      1       3            18928\n",
       "98      2       3            19160\n",
       "99      2       3            15379\n",
       "\n",
       "[100 rows x 3 columns]"
      ]
     },
     "execution_count": 2,
     "metadata": {},
     "output_type": "execute_result"
    }
   ],
   "source": [
    "df=df.rename(columns={0:'bedrs',1:'bathrs',2:'price_sqr_meter'})\n",
    "df"
   ]
  },
  {
   "cell_type": "markdown",
   "id": "9279c121",
   "metadata": {},
   "source": [
    "###### Create a one column DataFrame with the values of the 3 Series and assign it to 'bigcolumn'"
   ]
  },
  {
   "cell_type": "code",
   "execution_count": 3,
   "id": "6d78a50e",
   "metadata": {},
   "outputs": [
    {
     "data": {
      "text/plain": [
       "0         2\n",
       "1         4\n",
       "2         4\n",
       "3         1\n",
       "4         3\n",
       "      ...  \n",
       "95    27835\n",
       "96    29864\n",
       "97    18928\n",
       "98    19160\n",
       "99    15379\n",
       "Length: 300, dtype: int32"
      ]
     },
     "execution_count": 3,
     "metadata": {},
     "output_type": "execute_result"
    }
   ],
   "source": [
    "bigcolumn = pd.concat([df.bedrs,df.bathrs,df.price_sqr_meter])\n",
    "bigcolumn"
   ]
  },
  {
   "cell_type": "markdown",
   "id": "3a128c5d",
   "metadata": {},
   "source": [
    "###### Ops it seems it is going only until index 99. Is it true?"
   ]
  },
  {
   "cell_type": "markdown",
   "id": "a27b1f02",
   "metadata": {},
   "source": [
    "Yes, the index is only going until 99. As we can see from the below output, three columns/series each with a length of 100 gives a resulting datafarme of length 300, but the index of it is like 0,..,99,0,..,99,0,..,99."
   ]
  },
  {
   "cell_type": "markdown",
   "id": "5593ad6d",
   "metadata": {},
   "source": [
    "###### Create a one column DataFrame with the values of the 3 Series and assign it to 'bigcolumn' \n",
    "\n",
    "Reindex the DataFrame so it goes from 0 to 299"
   ]
  },
  {
   "cell_type": "code",
   "execution_count": 4,
   "id": "3c606a39",
   "metadata": {},
   "outputs": [
    {
     "data": {
      "text/plain": [
       "0     2\n",
       "1     4\n",
       "2     4\n",
       "3     1\n",
       "4     3\n",
       "     ..\n",
       "96    3\n",
       "97    1\n",
       "98    2\n",
       "99    2\n",
       "0     2\n",
       "Length: 101, dtype: int32"
      ]
     },
     "execution_count": 4,
     "metadata": {},
     "output_type": "execute_result"
    }
   ],
   "source": [
    "bigcolumn.head(101)"
   ]
  },
  {
   "cell_type": "code",
   "execution_count": 5,
   "id": "97160712",
   "metadata": {},
   "outputs": [
    {
     "data": {
      "text/plain": [
       "290    28751\n",
       "291    22242\n",
       "292    27986\n",
       "293    22118\n",
       "294    20116\n",
       "295    27835\n",
       "296    29864\n",
       "297    18928\n",
       "298    19160\n",
       "299    15379\n",
       "dtype: int32"
      ]
     },
     "execution_count": 5,
     "metadata": {},
     "output_type": "execute_result"
    }
   ],
   "source": [
    "index=np.arange(0,300)\n",
    "index=pd.Series(index)\n",
    "bigcolumn.index=index\n",
    "bigcolumn.tail(10)"
   ]
  },
  {
   "cell_type": "code",
   "execution_count": null,
   "id": "7a02da94",
   "metadata": {},
   "outputs": [],
   "source": []
  }
 ],
 "metadata": {
  "kernelspec": {
   "display_name": "Python 3 (ipykernel)",
   "language": "python",
   "name": "python3"
  },
  "language_info": {
   "codemirror_mode": {
    "name": "ipython",
    "version": 3
   },
   "file_extension": ".py",
   "mimetype": "text/x-python",
   "name": "python",
   "nbconvert_exporter": "python",
   "pygments_lexer": "ipython3",
   "version": "3.9.7"
  }
 },
 "nbformat": 4,
 "nbformat_minor": 5
}
