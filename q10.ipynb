{
 "cells": [
  {
   "cell_type": "markdown",
   "id": "d786e3eb",
   "metadata": {},
   "source": [
    "## Question 10\n",
    "\n",
    "Create a scatter plot showing the relationship between the total revenue earned by\n",
    "arcades and the number of Computer Science PhDs awarded in the U.S. between\n",
    "2000 and 2009.\n",
    "Don't forget to label your axes!\n",
    "Color each dot according to its year."
   ]
  },
  {
   "cell_type": "code",
   "execution_count": 1,
   "id": "c7b0ff29",
   "metadata": {},
   "outputs": [
    {
     "name": "stderr",
     "output_type": "stream",
     "text": [
      "C:\\Users\\Gourav Bhardwaj\\anaconda3\\lib\\site-packages\\IPython\\core\\interactiveshell.py:3444: FutureWarning: The error_bad_lines argument has been deprecated and will be removed in a future version.\n",
      "\n",
      "\n",
      "  exec(code_obj, self.user_global_ns, self.user_ns)\n"
     ]
    },
    {
     "data": {
      "image/png": "[encoded data removed]",
      "text/plain": [
       "<Figure size 432x288 with 1 Axes>"
      ]
     },
     "metadata": {
      "needs_background": "light"
     },
     "output_type": "display_data"
    }
   ],
   "source": [
    "import pandas as pd\n",
    "import matplotlib.pyplot as plt\n",
    "e = pd.read_csv('arcade-revenue-vs-cs-doctorates.csv', error_bad_lines=False)\n",
    "ard=e['Total Arcade Revenue (billions)'].tolist()\n",
    "cs=e['Computer Science Doctorates Awarded (US)'].tolist() \n",
    "plt.scatter(ard, cs,c =['purple', 'pink', 'gray','red', 'olive', 'cyan','green','blue','orange','brown'],\n",
    "            linewidths = 2, \n",
    "            marker =\"s\")\n",
    "  \n",
    "plt.xlabel(\"Computer Science Doctorates Awarded (US)\")\n",
    "plt.ylabel(\"Total Arcade Revenue (billions)\")\n",
    "plt.show()"
   ]
  },
  {
   "cell_type": "code",
   "execution_count": null,
   "id": "02cf42ad",
   "metadata": {},
   "outputs": [],
   "source": []
  }
 ],
 "metadata": {
  "kernelspec": {
   "display_name": "Python 3 (ipykernel)",
   "language": "python",
   "name": "python3"
  },
  "language_info": {
   "codemirror_mode": {
    "name": "ipython",
    "version": 3
   },
   "file_extension": ".py",
   "mimetype": "text/x-python",
   "name": "python",
   "nbconvert_exporter": "python",
   "pygments_lexer": "ipython3",
   "version": "3.9.7"
  }
 },
 "nbformat": 4,
 "nbformat_minor": 5
}
